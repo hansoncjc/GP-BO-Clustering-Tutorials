{
 "cells": [
  {
   "cell_type": "markdown",
   "metadata": {},
   "source": [
    "## Fundemantal Concepts toward Understanding Gaussian Process"
   ]
  },
  {
   "cell_type": "markdown",
   "metadata": {},
   "source": [
    "The purpose of this notebook is to introduce **essential concepts** for the sake of understanding **Gaussian Process**, a powerful machine learning model to predict the shape of a function while giving corresponding **uncertainties** for beginners. Some Concepts will come with **python code examples**.\n",
    "The notebook is formated into three main parts.\n",
    "1. **Mathematic Concepts**\n",
    "- Vectors and Matrices\n",
    "- Eigenvalues / Eigenvectors and Matrix Properties\n",
    "2. **Statistic Concepts**\n",
    "- Random Variables\n",
    "- Mean, Variance, and Standard Deviation\n",
    "- Covariance and Correlation\n",
    "- Gaussian Distribution\n",
    "- Multidimension Gaussian Distribution\n",
    "- The Central Limit Theorem\n",
    "- Probability Theory Basics\n",
    "- Probability and Likelihood\n",
    "- Baye's Theorem\n",
    "3. **Machine Learning Concepts**\n",
    "- Machine Learning Essentials\n",
    "- Machine Learning Categories\n",
    "- Regression\n",
    "- Maximum A Posteriori (MAP)\n",
    "- True Bayesian Prediction\n",
    "- Kernel Methods"
   ]
  },
  {
   "cell_type": "markdown",
   "metadata": {},
   "source": [
    "### **Mathematic Concepts**\n",
    "#### 1. Vectors and Matrices\n",
    "##### Vectors\n",
    "A vector is an ordered list of numbers, represented as a row: $x=[x_1,x_2,x_3]$. In python, it is usually represented as a list `x=[x1,x2,x3]`. A more common way to manipulate vectors in python is through np.array, which can be defined by converting a list or with numbers. `x_np=np.array([1,2,3])`.Multidimensional arrays can also be defined by`np.ndarray` method. The length of the vector can be extracted by `len(a)`, or `a.size()` if a is a np array.\n",
    "##### Vector Operations\n",
    "Some important operations of a vector are:\n",
    "- Addtion: for two vectors with equal length, the sum of them is just a vector with the same length where each component of the resulting vector is the sum of both components in the original vector (elementwise).\n",
    "- Scalar multiplication: $c\\cdot [x_1,x_2,\\cdots,x_n] = [cx_1,cx_2,\\cdots, cx_n]$\n",
    "- Dot Product: $x\\cdot y = \\sum_{i=1}^n a_i b_i$. In python, this can be easily done by `np.dot(a,b)`.\n",
    "- Norm: The norm of a vector, or the macnitude of the vector, is $||x||=\\sqrt{x_1^2,x_2^2,\\cdots,x_n^2}$. In python, the norm of a vector can be calculated by `np.linalg.norm(X)`.\n",
    "##### Matrix\n",
    "A matrix is a rectangular array of numbers. A matrix that is n by m means that it has n rows and m columns. For example, the following matrix A is a 3*2 matrix:\n",
    "$$A=\\begin{bmatrix}\n",
    "0.896 & 0.887 \\\\\n",
    "0.007 &  0.639 \\\\\n",
    "0.135 & 0.244\n",
    "\\end{bmatrix}$$\n",
    "A vector can be seen as a special type of matrix where the **size is n by 1 or 1 by n**. In python, a matrix can be defined as `np.array` or `np.ndarray`. To extract the shape of the matrix $A=np.ndarray()$, one can use `A.shape()`. A matrix whose number of columns is equal to the number of rows is called a **square matrix**.\n",
    "<br> A special matrix is the identity matrix, a square matrix with ones on the main diagonal and zeros elsewhere. It can be generated with `np.eye()` or `np.identity()`.\n",
    "$$ I = \\begin{pmatrix}\n",
    "1 & 0 & \\cdots & 0 \\\\\n",
    "0 & 1 & \\cdots & 0 \\\\\n",
    "\\vdots & \\vdots & \\ddots & \\vdots \\\\\n",
    "0 & 0 & \\cdots & 1 \\end{pmatrix}$$\n",
    "##### Matrix Operations\n",
    "- Addition: the addition between two matrices with the same size is element-wise.\n",
    "- Multiplication: In order to perform multiplication between two matrices, the number of columns in the first matrix must be equal to the number of rows in the second matrix. That is, in order to perform $AB$, $A$ and $B$ must have **shape i by n, and n by j**, respectively. The result is an **i by j** matrix.To perform matrix multiplication in python, one can use `np.dot(A,B)`.\n",
    "- Transpose: an operator that flips a matrix over its diagonal by switching the row and column indices of matrix B and producing another matrix. Transpose of a matrix in python is`A.T` suppose A is any matrix.\n",
    "$$A = \\begin{bmatrix}\n",
    "A_{11} & A_{12} \\\\\n",
    "A_{21} &  A_{22} \\\\\n",
    "A_{31} & A_{32}\n",
    "\\end{bmatrix}, \n",
    "A^T=\\begin{bmatrix}\n",
    "A_{11} & A_{21} && A_{31} \\\\\n",
    "A_{12} & A_{22} && A_{32}\n",
    "\\end{bmatrix}$$\n",
    "- Determinant: the determinant is a scalar-valued function of the entries of a **square matrix**. The determinant of a square matrix can be represented as either $det(A)$ or $|A|$. It is calculated as follows. For square matrices that is larger than 3 by 3, the determinant could be tedious to calculate, but is can be eaasily be done with `np.linalg.det(A)`.\n",
    "$$\\begin{vmatrix}\n",
    "a & b \\\\\n",
    "c & d\\end{vmatrix} = ad-bc, \\,\n",
    "\\begin{vmatrix}\n",
    "a & b & c\\\\\n",
    "d & e & f \\\\\n",
    "g & h & i\\end{vmatrix} = aei+bfg+cdh-ceg-bdi-afh$$\n",
    "- Inversion: The inverse of a matrix is defined as the matrix where the multiplication between the inverse and the original matrix results in an idendity matrix. In order to perform inversion, the matrix must have a non-zero determinant.\n",
    "$$ A^{-1}A=I $$\n",
    "$$ A^{-1}=\\frac{1}{|A|}, \\, |A| \\neq 0 $$"
   ]
  },
  {
   "cell_type": "markdown",
   "metadata": {},
   "source": [
    "#### 2. Eigenvalues / Eigenvectors and Matrix Properties\n",
    "###### Eigenvalues and Eigenvectors"
   ]
  },
  {
   "cell_type": "markdown",
   "metadata": {},
   "source": [
    "### **Statistics**\n",
    "#### 1. Random Variables\n",
    "A random variable is a numerical value assigned to the outcome of a random experiment. Mathematically, a random variable ***X*** is a **function** that maps outcomes from a sample space to real numbers.\n",
    "$$ X:\\Omega \\to \\mathbb{R} $$\n",
    "##### Discrete Variables\n",
    "- The value of the variable is contrained to a finite or countably finite set of values.\n",
    "- **Example**: The number one gets from tossing a dice. Possible values are limited to {1,2,3,4,5,6,}.\n",
    "##### Continuous Random Variables\n",
    "- The value of the variable is contrained to a **range**, while **uncountably** many.\n",
    "- **Example**: The height of a randomly chosen person.\n"
   ]
  },
  {
   "cell_type": "markdown",
   "metadata": {},
   "source": [
    "#### 2. Mean, Variance, and Standard Deviation\n",
    "To descibe the distribution of a random raviable, these three measurements are key.\n",
    "##### Mean(Expected Value)\n",
    "Mean(represented as $\\mu$), or sometimes called the Expected value(represented as $\\mathbb{E}[X]$), represents the average outcome if the experiment were repeated **infinitely**. Note that in real cases, obtaining the real mean or real expected value could be extremely challenging because it requires one to have full grasp of the distribution (for example, it is extremely expensive to survey everyone on earth's dinner item to probe the distribution). Instead, we sample over the population and use the sample measurements to probe the overall situation. Therefore, the goal becomes that the **sample mean** approaches the true mean.\n",
    "- For a discrete random variable, where $P(X = x_i)$ is the probability of $x_i$: $$\\mathbb{E}[X]=\\sum_{i}x_i P(X = x_i)$$\n",
    "- For a continuous random variable, where $f(x)$ is the probability density function, which will be explained in the next section: $$\\mathbb{E}[X] = \\int_{-\\infty}^{\\infty} x f(x) \\,dx$$"
   ]
  },
  {
   "cell_type": "markdown",
   "metadata": {},
   "source": [
    "##### Variance\n",
    "The variance is a measure of variability of the random variable, or the spread of the values around the **mean**. It is denoted as $Var(X)$ or $\\sigma^2$.\n",
    "$$ Var(X)=\\mathbb{E}[(X - \\mathbb{E}[X])^2]= \\mathbb{E}[X^2] - (\\mathbb{E}[X])^2$$\n",
    "- For a continuous variable, where $f(x)$ is the probability density function:\n",
    "$$ Var(X) = \\int_{-\\infty}^{\\infty} (x - \\mu)^2 f(x) \\,dx $$\n",
    "##### Standard Deviation\n",
    "The standard deviation is the square root of the variance:\n",
    "$$\\sigma = \\sqrt{\\text{Var}(X)}$$\n",
    "\n",
    "It has the same unit as $X$, making it easier to interpret than variance."
   ]
  },
  {
   "cell_type": "markdown",
   "metadata": {},
   "source": [
    "#### 3. Covariance and Correlation\n",
    "##### Covariance\n",
    "When we are dealing with two or more random variables, it is important that we develop another measurement to describe the relationship between two different random variables $X$ and $Y$. The covariance is defined as:\n",
    "$$ Cov(X,Y)=\\mathbb{E}[(X-\\mu_X)(Y-\\mu_Y)] $$\n",
    "The covariance describes the tendency of a random variable to move towards the same direction of the movement of another random variable:\n",
    "- if  $Cov(X,Y)>0$, $X$ and $Y$ tend to increase together.\n",
    "- if  $Cov(X,Y)=0$, $X$ and $Y$ have no correlation.\n",
    "- if  $Cov(X,Y)<0$, $X$ and $Y$ tend to move in opposite directions.\n",
    "\n",
    "<br> When dealing with **more than two random variables**, it is common to construct a **covariance matrix**. For example we have random variables $X_1 , X_2 , \\cdots , X_n$, the covariance matrix is:\n",
    "$$K_{ij}=Cov(X_i,X_j)$$\n",
    "\n",
    "##### Correlation\n",
    "If we are going to compare the covariance between $A$ and $B$ with that between $C$ and $D$, it is usually challenging due to the different scales the two covariances inherently have. Therefore, standardizing the covariance, which generates correlation, makes direct comparison more reasonable. The correlation between two variables is obtained by deviding their covariance with the product of their standard deviation:\n",
    "$$ r(X,Y) = \\frac{Cov(X,Y)}{\\sigma_X \\sigma_Y}$$\n",
    "Because the correlation is standardized, its possible values are within $[-1,1]$.\n",
    "- if  $0<r(X,Y) \\le 1$, $X$ and $Y$ tend to increase together,and have perfect positive correlation at $r=1$\n",
    "- if  $r(X,Y)=0$, $X$ and $Y$ have no correlation.\n",
    "- if  $-1 \\le r(X,Y)<0$, $X$ and $Y$ tend to move in opposite directions,and have perfect negative correlation at $r=-1$\n",
    "\n",
    "<br>Note that a correlation of 0 **does not imply independence**, but independent random variables have correlation of 0."
   ]
  },
  {
   "cell_type": "markdown",
   "metadata": {},
   "source": [
    "#### 4. Gaussian Distribution\n",
    "The gaussian distribution, namely one of the most popular distribution patterns, is a **continuous probability** distribution that models many natural phenomena and can be seen very often. Gaussian Process is based on multivariate gaussian distribution. \n",
    "##### One-Dimentional Gaussian Distribution\n",
    "A gaussian distribution is a distribution that described by two parameters, the mean $\\mu$, and the standard deviation $\\sigma$. To state that a random variable $X$ follows a one-dimensional gaussian distribution described by $\\mu$ and $\\sigma$, one can use the following math expression: $$ X \\sim \\mathcal{N}(\\mu,\\sigma) $$  \n",
    "By definition, in one dimentional case, it is said that a random variable $X$ follows gaussian distribution if its **probability function** (PDF) is given by the following expression:\n",
    "$$f(x)=\\frac{1}{\\sqrt{2\\pi \\sigma^2}}exp(-\\frac{(x-\\mu)^2}{2\\sigma^2})$$\n",
    "A probability distribution function (PDF) describes the likelihood of a continouous random variable taking on a particular value. PDF does not give the probability of a single value, rather it defines a probability density over a range. It has the following properties, where $f(x)$ is the PDF:\n",
    "- The probability that a random variable $X$ falls within an interval $[a,b]$ is givenby $P(a\\le X \\le b)=\\int_a^b f(x) \\, dx$\n",
    "- Non-negativity: $f(x)\\ge 0$\n",
    "- Normalization: $\\int_{-\\infty}^{\\infty}f(x) \\, dx=1$\n",
    "- the probability of $X$ being exactly any single value is **zero**. Instead, it can only be used to compute probabilities over an **interval**.\n",
    "##### Properties of Gaussian Distribution\n",
    "- The shape of gaussian distribution is a **Bell-shaped curve** that is **symmetric around the mean** $\\mu$.\n",
    "- Mean = Median = Mode: the highest peak is exactly at $x=\\mu$.\n",
    "- A gaussian distribution is fully described by only **two parameters**: the mean $\\mu$ which determines the center, and the standard deviation $\\sigma$ which determines the spread.\n",
    "- Rule of thumb: \n",
    "    - $68%$ of the data falls within $\\mu \\pm \\sigma$\n",
    "    - $95%$ of the data falls within $\\mu \\pm 2\\sigma$\n",
    "    - $99.7%$ of the data falls within $\\mu \\pm 3\\sigma$"
   ]
  },
  {
   "cell_type": "markdown",
   "metadata": {},
   "source": [
    "#### 5. Multivariate Gaussian Distribution\n",
    "A gaussian distribution can be generalized to multivariate random variables. In this case, we are dealing with random vectors rather than univariate random variables, where each component of the random vector is gaussian distributed. For a multivariate random vector X that is n-dimensional:\n",
    "$$X = \\begin{bmatrix} X_1 \\\\ X_2 \\\\ \\cdots \\\\ X_n \\end{bmatrix}$$\n",
    "The corresponding mean vector $\\mu$ and covariance matrix $\\Sigma$ are represented as follow. The mean vector represents the expected value of each component of $X$, and the covariance matrix encodes the variances and the covariances between two random variables.\n",
    "$$\\mu = \\begin{bmatrix} \\mu_1 \\\\ \\mu_2 \\\\ \\cdots \\\\ \\mu_n \\end{bmatrix}, \n",
    "  \\Sigma = \\begin{bmatrix} Cov(X_1,X_1) && Cov(X_1,X_2) && \\cdots && Cov(X_1,X_n)\\\\ \n",
    "                Cov(X_2,X_1) && Cov(X_2,X_2) && \\cdots && Cov(X_2,X_n) \\\\\n",
    "                \\vdots && \\vdots && \\ddots && \\vdots\\\\ \n",
    "                Cov(X_n,X_1) && Cov(X_n,X_2) && \\cdots && Cov(X_n,X_n)\\end{bmatrix}$$\n",
    "Key properties of the covariance matrix $\\Sigma$:\n",
    "- The matrix is **symmetric**: $\\Sigma_{ij} = \\Sigma{ji}$\n",
    "- The diagonal of the covariance matrix is just the variance of each components of the random vector $X$ :$Cov(X_i,X_i)=Var(X_i)$.  \n",
    "- The matrix need to be **Positive Semi-Definite** to ensure that the variances are always non-negative.\n",
    "- The covariance matrix controls the direction in which the data is more spread, and the correlation between variables. (**More content not finished**)\n",
    "<br> A multivariate gaussian can still be fully described by its mean vector and covariance matrix. The probability density function of a multivariate gaussian distributed random vector $X$ with length $n$, mean vector $\\mu$, and covariance matrix $\\Sigma$ is:\n",
    "$$f(X)=\\frac{1}{(2\\pi)^{n/2}|\\Sigma|^{1/2}} exp(-\\frac{1}{2}(X-\\mu)^T\\Sigma^{-1}(X-\\mu))$$"
   ]
  },
  {
   "cell_type": "markdown",
   "metadata": {},
   "source": [
    "#### 6. Central Limit Theorem (CLT)"
   ]
  },
  {
   "cell_type": "markdown",
   "metadata": {},
   "source": [
    "#### 7. Probability Theory Basics\n",
    "##### Joint Probability\n",
    "Joint probability is the probability of two events happening together. Suppose we have event $X$ and event $Y, the joint probablity of $X$ and $Y$ is expressed as $P(X,Y)$, or $P(X\\cap Y)$. If $X$ and $Y$ are **independent events**, the joint probability of $X$ and $Y$ is just the product of the probability of $X$ and probability of $Y$: $P(X,Y)=P(X)P(Y)$.\n",
    "##### Marginal Probability\n",
    "Marginal Probability is the probability of a single event **regardless of other variables**. It is obtained by summing (or integrating) out the other variable from the joint probability.\n",
    "- Discrete Variable: $P(X=x)= \\displaystyle\\sum_y P(X=x,Y=y)$\n",
    "- Continuous Variable: $P(X=x)= \\int P(X=x,Y=y)dy$\n",
    "##### Conditional Probability\n",
    "The conditional probability is the probability of an event given that another event has already occurred. It is expressed as $P(X|Y)$, which represents the probability of event $X$ given that event $Y$ already happened. \n",
    "- If $X$ and $Y$ are **not independent**, the contioanl probability is calculated as:\n",
    "$$P(X|Y)=\\frac{P(X,Y)}{P(Y)}$$\n",
    "- If $X$ and $Y$ are **Independent**, the conditional probability $P(X|Y)$ is just the probability of $X$.\n",
    "$$P(X|Y)=P(X)$$\n",
    "#### Example Calculations\n",
    "Suppose we have the following normalized distribution of a pile of products produced in two difference locations, California and New York. The two random variables are **Location(L)** and Type of **Products(T)**.\n",
    "<div style=\"text-align: center\"> <img src=\"image.png\" alt=\"Drawing\" width=\"500\"/> </div>"
   ]
  },
  {
   "cell_type": "markdown",
   "metadata": {},
   "source": [
    "- The numbers shaded in **blue** represent the **joint probability**. For example, $P(T=Shoes,L=California)=0.48$. If the joint probability is unknwon, we can calculate as $P(T=Shoes,L=California)=P(T=Shoes)P(L=California)=0.48*0.39=0.17$, given that we know they are independent events.\n",
    "- The **marginal probabilities** are shaded in **green**, as they represents the probability of an event regardless of the other variable. In another word, if we do not know the marginal probability of California, we can add up all the products produced in California to obtain the marginal probability: $P(L=California)=\\displaystyle\\sum_i P(L=California,T=i)=0.22+0.09+0.17=0.48$.\n",
    "- Contional Probabilities are not shown in the table, but can be easilly calculated. For instance, if we want to calculate $P(Shoes|New York)$, which is the probability of shoes given that they are produced in New York, we calculate as follow:\n",
    "$$P(Shoes|New York)=\\frac{P(Shoes,New York)}{P(New York)}=\\frac{0.22}{0.52}=0.42$$"
   ]
  },
  {
   "cell_type": "markdown",
   "metadata": {},
   "source": [
    "#### 8. Probability and Likelihood\n",
    "Probability and Likelihood are two terminologies that have subtle yet cirtical difference in statistics. Understanding the key difference between them helps the understanding of Bayes' Theorem and gaussian process a lot.\n",
    "##### Probability\n",
    "Probability is generally understood as \"how likely an event is to occur\", but this is not enough to understand it statistically. In statistics, probability $P(D|\\theta)$ is the possibility of the occurance of an event based on a pre-selected model with **specific parameters**, or our understanding of the model. \n",
    "<br>For example, the probability of getting a head with a fair coin is $P=\\frac{1}{2}$. The pre-selected model here is a fair coin, which we assumed that the chances of getting a head and getting a tail are the same. The estimation of probability is done **before any events occur**. The nature of probability is **interpreting a model**.\n",
    "##### Likelihood\n",
    "Although one can still understand likelihood as \"chance of an event occurance\", it is defined differently in statistics. In statistics, likelihood is the **plausibility of a model** (usually equal to a set of parameters or a single parameter), given an observation. Likelihood is represented as $L(\\theta|D)$, where $D$ is the observation (data) and $\\theta$ is the parameter set whose plausibility is being evaluated.It is interpreted as \"the possibility of the observed data **given some parameters**\". As you may notice, one key difference between Probability and Likelihood is **whether or not we make any observation**.\n",
    "<br>Continuing on the die example, say we tossed the coin 10 times and get 7 heads. After we make the observation, we come up with three models to describe the coin, where $\\theta_H$ is the possibility of head:\n",
    "1.  The coin is **fair**. ($\\theta_H=0.5$)\n",
    "2. The coin is biased and the chance of getting a **head** is 0.7.($\\theta_H=0.7$)\n",
    "3. The coin is biased and the chance of getting a **tail** is 0.7.($\\theta_H=1-0.7=0.3$)"
   ]
  },
  {
   "cell_type": "markdown",
   "metadata": {},
   "source": [
    "To evaluate the likelihood of each model, a.k.a their plausibility, we use these models to calculate the chance of getting our observation:\n",
    "1. $L(\\theta_H=0.5|D)=\\frac{10!}{7!(10-7)!}0.5^7 (1-0.5)^{10-7}=11.72\\%$\n",
    "2. $L(\\theta_H=0.3|D)=\\frac{10!}{7!(10-7)!}0.7^7 (1-0.7)^{10-7}=26.68\\%$\n",
    "3. $L(\\theta_H=0.7|D)=\\frac{10!}{7!(10-7)!}0.5^{10-7} (1-0.5)^{7}=0.90\\%$\n",
    "As the result indicates, the model with the highest likelihood is the model where we assume the coin is biased and has 70% chance to get a head in each toss. This means this model is the most plausible one among three. As you may noticed, the \"most plausible\" model based on our likelihood calculation does not align with our understanding about a fair coin, whose chance to get a head is 50%. This is because the likelihood **only considers the data, not the truth**. Another factor in this example is that the number of datapoints involved is too **small**, which indicates high fluctuation.\n",
    "\n",
    "A way to assess the credibility of likelihood is to add **confidence interval** into the interpretation. This is an important reason why in Bayesian Thinking models like gaussian process, incorporating conficence interval is necessary.\n",
    "##### Example - Gaussian Distritbuion\n",
    "It is also beneficial to visualize the difference between probability and likelihood with a **continuous distribution**, since the later gaussian process involves multivariate gaussian distribution, whith is continuous.\n",
    "Let's say we have a gaussian distributinon $X\\sim \\mathcal{N}(0,1)$. \n",
    "<br>Now we want to know the **probability** to get $-0.3$. The probability of getting this number with the given model is:\n",
    "$$P(-0.3|\\mu=0,\\sigma=1)=\\frac{1}{\\sqrt{2\\pi \\cdot 1^2}}exp(-\\frac{(-0.3-0)^2}{2\\cdot 1^2})=0.381$$\n",
    "<br>If instead we don't know the model parameters, but we get -0.3 after an inquiry, we can come up with the most plausible model to describe this event via likelihood calculation. Let's say we have two candidate models as following, and their likelihood of them are:\n",
    "1. $X\\sim \\mathcal{N}(-1,1)$:$L(\\mu=-0.1|X=-0.3)=\\frac{1}{\\sqrt{2\\pi \\cdot 1^2}}exp(-\\frac{(-0.3-(-0.1))^2}{2\\cdot 1^2})=0.312$\n",
    "2. $X\\sim \\mathcal{N}(-0.3,1)$:$L(\\mu=-0.3|X=-0.3)=\\frac{1}{\\sqrt{2\\pi \\cdot 1^2}}exp(-\\frac{(-0.3-(-0.3))^2}{2\\cdot 1^2})=0.399$\n",
    "\n",
    "Based on the calculation, the model $X\\sim \\mathcal{N}(-0.3,1)$ has the highest likelihood, thus it is by far the best model to describe the event.\n",
    "\n",
    "A visualization of this analysis is shown below.\n"
   ]
  },
  {
   "cell_type": "code",
   "execution_count": 50,
   "metadata": {},
   "outputs": [
    {
     "data": {
      "application/vnd.jupyter.widget-view+json": {
       "model_id": "054f7b0de1354487a07a209ca84e91a7",
       "version_major": 2,
       "version_minor": 0
      },
      "text/plain": [
       "interactive(children=(FloatSlider(value=-0.3, description='x:', max=3.0, min=-3.0), FloatSlider(value=-0.3, de…"
      ]
     },
     "metadata": {},
     "output_type": "display_data"
    },
    {
     "data": {
      "text/plain": [
       "<function __main__.prob_like(obs, like_mu)>"
      ]
     },
     "execution_count": 50,
     "metadata": {},
     "output_type": "execute_result"
    }
   ],
   "source": [
    "import numpy as np\n",
    "import matplotlib.pyplot as plt\n",
    "from scipy.stats import norm\n",
    "from ipywidgets import interact, FloatSlider\n",
    "\n",
    "def prob_like(obs, like_mu):\n",
    "    # Given parameters\n",
    "    sigma = 1  # Known variance\n",
    "    mu = 0  # Known mean for probability plot\n",
    "    x_obs = -0.3  # Target Value\n",
    "    x_values = np.linspace(-4, 3, 100)\n",
    "    prob_obs = norm.pdf(obs, loc = mu, scale = sigma)\n",
    "    # Plot Setup\n",
    "    probability_values = norm.pdf(x_values, loc=mu, scale=sigma)\n",
    "    mu_values = [like_mu, -0.3]  # Different means to compare\n",
    "    colors = [\"orange\", \"green\"]\n",
    "    marker_colors = [\"red\", \"blue\"]\n",
    "\n",
    "\n",
    "    # Create subplots\n",
    "    fig, axes = plt.subplots(1, 2, figsize=(12, 5), dpi=120)\n",
    "\n",
    "    # --- Plot Probability ---\n",
    "    axes[0].plot(x_values, probability_values, label=\"f(x)\", color=\"blue\")\n",
    "    axes[0].fill_between(x_values, probability_values, alpha=0.2, color=\"blue\")\n",
    "    axes[0].axvline(x_obs, linestyle=\"dashed\", color=\"red\", label=\"x=-0.3\")\n",
    "    axes[0].scatter(obs, prob_obs, s=50, color = \"red\", label = f\"P({obs:.1f})={prob_obs:.2f}\")\n",
    "    axes[0].axhline(norm.pdf(x_obs, scale=1), linestyle=\"dashed\", color=\"g\", label=\"P(-0.3)\")\n",
    "    axes[0].set_title(\"Probability: P(x | μ=0, σ²=1)\")\n",
    "    axes[0].set_xlim([-3,3])\n",
    "    axes[0].set_xlabel(\"x\")\n",
    "    axes[0].set_ylabel(\"Density\")\n",
    "    axes[0].legend()\n",
    "\n",
    "    # --- Plot Likelihood with Three Distributions ---\n",
    "    for mu, color, marker_color in zip(mu_values, colors, marker_colors):\n",
    "        y_values = norm.pdf(x_values, loc=mu, scale=1)\n",
    "        axes[1].plot(x_values, y_values, label=f\"μ={mu:.2f}, σ=1\", color=color)\n",
    "        axes[1].fill_between(x_values, y_values, alpha=0.2, color=color)\n",
    "        likelihood = norm.pdf(x_obs, loc=mu, scale=1)\n",
    "        axes[1].scatter(x_obs, likelihood, s = 60, color=marker_color, label=f\"L(μ={mu:.2f})\")\n",
    "\n",
    "    axes[1].axvline(x_obs, linestyle=\"dashed\", color=\"red\", label=\"Observed x=-0.3\")\n",
    "    axes[1].set_title(\"Likelihood: L(μ | x=-0.3, σ²=1)\")\n",
    "    axes[1].set_xlim([-4,3])\n",
    "    axes[1].set_xlabel(\"x\")\n",
    "    axes[1].set_ylabel(\"Likelihood\")\n",
    "    axes[1].legend()\n",
    "\n",
    "    plt.tight_layout()\n",
    "    plt.show()\n",
    "# interactivity with a slider\n",
    "Prob_slider = FloatSlider(min=-3, max=3, step=0.1, value=-0.3, description='x:')\n",
    "like_slider = FloatSlider(min=-3, max=3, step=0.1, value=-0.3, description='μ:')\n",
    "interact(prob_like, obs=Prob_slider, like_mu = like_slider)"
   ]
  },
  {
   "cell_type": "markdown",
   "metadata": {},
   "source": [
    "As one can observe from the visualization, the probability is the density of a certain or a range of value based on a single model, while the likelihood is the calculation of plausibility of a model based on an observation.\n",
    "##### Summary of Probability and Likelihood\n",
    "| **Aspect**         | **Probability**                                              | **Likelihood**                                              |\n",
    "|---------------------|--------------------------------------------------------------|-------------------------------------------------------------|\n",
    "| **Definition**     | Measures the chance of an event occurring given a set of fixed parameters $\\theta$ | Measures how plausible a model (represented by a set of parameter $\\theta $ )is given observed data. |\n",
    "| **Mathematical Form** | $P(D\\|\\theta)$ | $L(\\theta \\| D)$,sometimes $P(D \\| \\theta)$, **could be confusing** |\n",
    "| **Focus**         | Data as a random variable, parameters are fixed               | Parameters as variables, data is fixed                      |\n",
    "| **Interpretation** | Answers \"What is the probability of this event occurring?\"     | Answers \"How well does the parameters explain the observed data?\" |\n",
    "| **Application**    | Used for predictive modeling, calculating expected outcomes   | Used for parameter estimation (e.g., MLE, MAP) |\n",
    "| **Example**        | Probability of rolling a head with a fair coin: $P(head) = \\frac{1}{2} $ | Given that I rolled three heads in a roll, how likely is it that the coin is fair? |"
   ]
  },
  {
   "cell_type": "markdown",
   "metadata": {},
   "source": [
    "#### 9. Bayes' Theorem"
   ]
  },
  {
   "cell_type": "markdown",
   "metadata": {},
   "source": [
    "##### Definition\n",
    "Bayes's theorem is a rule to update the probability when new information is available. New information could be our assumptions, observations, and new data. Suppose $A$ and $B$ are two events, baye's theorem is expressed as the following:\n",
    "$$P(A|B)=\\frac{P(B|A)P(A)}{P(B)}$$\n",
    "where:\n",
    "- $P(A|B)$ is called the **Posterior**, the conditional probability of $A$ given $B$.\n",
    "- $P(A)$ is called the **Prior**, which is our **original** belief of $A$.\n",
    "- $P(B|A)$ is the likelihood, where is explains how well $A$ explains $B$.\n",
    "- $P(B)$ is a normalizing factor, usually called normalizing constant or the Marginal probability. It is **neglected** in some usecases including gaussian process, which will be explained later.  \n",
    "\n",
    "In machine leaning, $A$ in the equation above usually represents the **data** that we want to probe, and $B$ is usually either an **evidence**(some observation), or an **assumption** we made. Therefore, the equation is answering the quesion: given new information $B$, which could be evidence or assumption, how should we update our understanding of $A$?\n",
    "Bayes' Theorem is the most important concept toward Gaussian Process, as the training of gaussian process is highly dependent on the theorem.\n",
    "\n",
    "##### Difference between Conditional Probability\n",
    "In a previous example where we have the data of apperal products from different locations, the concept of conditional probability $P(A|B)$ was illustrated. Since the Bayes' Theorem is also calculating the conditional probability, but with a much more complicated formula, why don't we just use the simpler one?\n",
    "\n",
    "The key is that the previous example, where we know **everything** about the data, is extremely rare and nearly impposible in real life, because usually the dataset is way **bigger** and therefore way **harder** to acquire every piece of distribution information.Take the following problem as an example:\n",
    "\n",
    "**Q:** The overall rate of having a rare disease in an area is $2\\%$. The disease could be tested, but the test is only $95\\%$ accurate. Given a person is tested positive, how likely is that the person truly has the disease?\n",
    "\n",
    "**Analysis:** First of all, we want to know if we can calculate the result directly. Suppose we **Know** everyone who has the disease and that we are able to **make everyone do a test** and obtain the result, the calculation should be pretty simple, as we only need to calculate the conditional probability:\n",
    "$$P(Disease|Positive)=\\frac{P(Disease,Positive)}{P(Positive)}$$\n",
    "However, this is very unrealistic, majorly because the joint probability $P(Disease,Positive)$ requires unfathomably large amount of resource and time. Here is how Baye's Theorem can help us:\n",
    "\n",
    "**Bayes' Theorem Approach** With Bayes' Theorem, we first need to identify the terms.\n",
    "- Posterior $P(Disease|Positive)$:The probability of getting disease given that the test is positive.\n",
    "- Prior $P(Disease)$: The probability of getting a disease is $2\\%$, something we know.\n",
    "- Likelihood $P(Positive|Disease)$: How accurate the test results are. You can understand this term with the definition of likelihood: Disease is the data, and testing is the parameter. The term says how plausible the parameter \"testing\" is, which is the same as \"how well\" testing explains the data  \"disease\". Keep in mind that $L(Disease|Positive)=P(Positive|Disease)$\n",
    "- Marginal Probability $P(Positive)$: The probability of getting a positive. This is calculatable based on existing information (distribution of no disease can be inferred):\n",
    "$$P(Positive)=P(Positive|Disease)\\cdot P(Disease)+P(Positive|No Disease)\\cdot P(No Disease) \\\\ \n",
    "= 0.95\\cdot 0.02 + (1-0.95) \\cdot (1-0.02) = 0.068$$\n",
    "\n",
    "Then we can plug in these numbers:\n",
    "$$P(Disease|Positive)=\\frac{P(Positive|Disease)\\cdot P(Disease)}{P(Positive)}\n",
    "\\\\= \\frac{0.95\\cdot0.02}{0.068}=27.9\\%$$\n",
    "\n",
    "Thus, the chance of actually getting the disease given that the testing is positive is only $27.9\\%$.\n",
    "\n",
    "Bayes' Theorem is very powerful when the understanding of the data is limited. When all the data is known (nearly impossible in many usecases), it is not that big of a deal. "
   ]
  },
  {
   "cell_type": "markdown",
   "metadata": {},
   "source": [
    "### Machine Learning(ML)\n",
    "#### 1.Maching Learning Essentials\n",
    "##### Machine Learning Setup\n",
    "The goal of machine learning is to **make predictions** through training. The setup of ML includes the following:\n",
    "- Feature Space $\\mathcal{X}$: the **input** variables (called features) to describe the datapoint. Each dimension of the feature vector represents a feature: $\\mathcal{X}\\in \\mathcal{R}^d, X_i=[X_i^1,X_i^2,\\cdots,X_i^d]$\n",
    "- Label Space $\\mathcal{C}$: The label space is the possible **outputs** (called labels) that the model aims to predict. The range of label is determined by the nature of the model:\n",
    "    - Classification: $\\mathcal{C}={0,1}$ or $\\mathcal{C}={Y_1,Y_2,\\cdots,Y_n}$\n",
    "    - Regression: $\\mathcal{C}\\in \\mathcal{R}$\n",
    "- Training Data $\\mathcal{D}$: the set of datapoints used during training. It is the combination of the features and labels: $\\mathcal{D}=\\mathcal{X}\\times \\mathcal{C}\\subseteq \\mathcal{R}^d\\times\\mathcal{C}$\n",
    "\n",
    "The rough idea of machine learning is that the datapoints $(X,Y)$ are drawn from some unknown distribution, and we would like to learn (train) a function $h(x)=y$, or $h(x)\\approx y$ that is true for any new pairs of $(X,Y)$.\n",
    "\n",
    "##### Lost Functions\n",
    "Previously we mentioned training a function $h(x)=y$ to make predictions for new pairs of $(X,Y)$. It is normally done by defining and minimizing lost functions. A loss function $\\mathcal{L}(h)$ is a mathematical function that quantifies how **well** a machine learning model’s predictions **match the actual target values**. Depends on the type of models, lost function can be the difference between the predicted output and the true label or other form. Purpose of a loss function includes:\n",
    "- Error Measurement: quantification of model's performance\n",
    "- Optimization Guide: During training, the parameters of the model are updated such that the lost function is minimized: $h(x)=argmin(\\mathcal{L})$\n",
    "- Comparing Models\n",
    "\n",
    "##### No Free Lunch Theorem\n",
    "The no free lunch theorem is a concept i Machine Learning where it states that **no single algorithm is universally better than all others**. This implies that it is impossible to find a single model that work absolutely best on all problems. For different tasks, we need to **make assumptions** on the data/system we are dealing with. For instance, in gaussian process, we assume that any finite set of value from the function that we try to model follows a multivariate gaussian distribution.\n",
    "\n",
    "##### Bias/Variance Trade-Off\n",
    "\n",
    "##### Training/Testing Split\n",
    "The idea of training/testing split is to divide a dataset into two separate subsets:\n",
    "1. Training Set: Used to train the model\n",
    "2. Testing Set: Used to evaluate the model's performance on unseen data. It is not used to train the model, but rather kept hidden in the training phase and fed to the model after training to validate the model.\n",
    "Training/Testing Split allows us to train a model while keeping necessary know data to evalute the performance. It helps prevent overfitting and measure generalization of the model. This could be done with the sklearn library:"
   ]
  },
  {
   "cell_type": "code",
   "execution_count": 41,
   "metadata": {},
   "outputs": [
    {
     "name": "stdout",
     "output_type": "stream",
     "text": [
      "Training Set: [[5, 7], [3, 5], [1, 3], [4, 6]] [50, 30, 10, 40]\n",
      "Testing Set: [[2, 4]] [20]\n"
     ]
    }
   ],
   "source": [
    "from sklearn.model_selection import train_test_split\n",
    "import numpy as np\n",
    "\n",
    "# dataset\n",
    "X = [[1,3], [2,4], [3,5], [4,6], [5,7]]\n",
    "y = [10, 20, 30, 40, 50] \n",
    "\n",
    "# Split into 80% training and 20% testing\n",
    "X_train, X_test, y_train, y_test = train_test_split(X, y, test_size=0.2, random_state=42) # random_state could be blank\n",
    "\n",
    "print(\"Training Set:\", X_train, y_train)\n",
    "print(\"Testing Set:\", X_test, y_test)\n"
   ]
  },
  {
   "cell_type": "markdown",
   "metadata": {},
   "source": [
    "#### 2.Machine Learning Categories\n",
    "There are three big categories of machine learning.\n",
    "##### Supervised Learning\n",
    "The model learns from **labeled** data, meaning each training sample has both an input $X$  and a corresponding correct output(label) $y$. The model is evaluated based on how **well it predicts the correct outputs** on unseen data and therefore supervised learning could further be splitted into **Regression(continuous prediction)** and **Classification(discrete prediction)**. Gaussian Process is a supervised learning model of regression. There is also a category called the \"Semi-Supervised\" learning.\n",
    "##### Unsupervised Learning\n",
    "In unsupervised learning, the model learns from **unlabeled data**, meaning it does **not** have predefined outputs. The training set of unsupervised learning **does not** include a label for each feature input. The goal is to discover **patterns, structures, or relationships** in the data. Clustering is a type of unsupervised learning.\n",
    "##### Reinforced Learning\n",
    "In reinforcement learning, an **agent** interacts with an environment and learns by **trial and error**, receiving rewards or penalties based on its actions.\n",
    "\n",
    "<div style=\"text-align: center\"> <img src=\"https://analystprep.com/study-notes/wp-content/uploads/2021/03/Img_12.jpg\" alt=\"Drawing\" width=\"500\"/> </div>\n",
    "<div style=\"text-align: center\"> Supervised vs. Unsupervised Learning. In supervised learning, every datapoint has an accompanying label, as the star, circle, and cross. The model is trained to predict the label given an input feature vector. In unsupervised learning, datapoints are not labeled. The model is trained to discover underlying relationships among datapoints.\n"
   ]
  },
  {
   "cell_type": "markdown",
   "metadata": {},
   "source": [
    "#### 3.Regression\n",
    "As mentioned above, supervised learning can be divided into regression and classification. Since Gaussian Process is a regression model, this notebook will neglect classification.\n",
    "\n",
    "Regression is a supervised learning technique used to model the relationship between input variables (features $X$) and a **continuous** output variable (Label $Y$).The goal of a regression model is to find a function that best predict $Y$, where $\\epsilon$ is the noise term, representing random errors:\n",
    "$$Y=f(X)+\\epsilon$$\n",
    "\n",
    "##### Linear Regression\n",
    "Linear regression is the simplest form of regression, where we assumea linear relationship between $X$ and $Y$, as well as a gaussian distribution of noise: $\\epsilon \\sim \\mathcal{N}(0,\\sigma^2)$. A general form of linear regression is the following:\n",
    "$$Y_i=\\theta^T X_i+\\epsilon_i$$\n",
    "In the case of **1D linear regression(simple linear regression)**, the shape and size of $X$, $Y$, and $\\theta$ is:\n",
    "$$X=\\begin{bmatrix} 1 \\\\ X_1 \\end{bmatrix},Y= \\begin{bmatrix} Y_1 \\end{bmatrix}, \\theta=\\begin{bmatrix} \\theta_0 \\\\ \\theta_1 \\end{bmatrix}$$\n",
    "One **confusion** in linear regression notation is that the **intercept** is usually incorporated in the parameter vector $\\theta$. As shown above, even in a simple linear regression the model is actually $y=ax+b$, the general form is usually expressed as $y=\\theta_0+\\theta_1x$, and $\\theta_0,\\,\\theta_1$ is combined into one vector $\\theta$. In order to make the model work with this notation, an entry $X_0=1$ is added at the begining of the feature input, making its size **1 bigger than its original**. Therefore, in the case of **1D Linear Regression**, the feature and parameter **length** is **2**.\n",
    "\n",
    "To find the optimal $\\theta$, we need to utilize lost function mentioned above to evaluate the peformance of the model. The most popular loss function in linear regression is the **Mean Squared Error**:\n",
    "$$MSE=\\frac{1}{n}\\displaystyle\\sum_{i=1}^n (Y_i-\\hat{Y}_i)^2$$\n",
    "In the above equation, $Y$ is the label value from **training data**, and $\\hat{Y}$ is the predicted label value **according to the model**.\n",
    "\n",
    "Our goal is to find the veector $\\theta$ which **minimizes** the MSE function. This could be done by gradient descent, newton's method, or simplest in its closed form solution:\n",
    "$$argmin_{\\theta}(\\frac{1}{n}\\displaystyle\\sum_{i=1}^n (Y_i-\\hat{Y}_i)^2)=(XX^T)^{-1}XY^T$$\n",
    "\n",
    "To train a linear regression model, *sklearn* is a popular library. \n",
    "\n",
    "An **interactive example** of how MSE is related to the model peformance is shown below. For simplicity, the example below assumes a **1D linear model with intercept of 0**. Thus, slope is the only independent variable to calculate MSE."
   ]
  },
  {
   "cell_type": "code",
   "execution_count": 42,
   "metadata": {},
   "outputs": [
    {
     "data": {
      "application/vnd.jupyter.widget-view+json": {
       "model_id": "bbfa199358bb4fad88df52c3e5a8539d",
       "version_major": 2,
       "version_minor": 0
      },
      "text/plain": [
       "interactive(children=(FloatSlider(value=1.0, description='Slope:', max=8.0, min=-5.0), Output()), _dom_classes…"
      ]
     },
     "metadata": {},
     "output_type": "display_data"
    },
    {
     "data": {
      "text/plain": [
       "<function __main__.plot_regression(slope)>"
      ]
     },
     "execution_count": 42,
     "metadata": {},
     "output_type": "execute_result"
    }
   ],
   "source": [
    "import numpy as np\n",
    "import matplotlib.pyplot as plt\n",
    "from ipywidgets import interact, FloatSlider\n",
    "\n",
    "# Generate data\n",
    "np.random.seed(116)\n",
    "x = np.linspace(0, 10, 100)\n",
    "y = 2 * x + np.random.normal(0, 2, 100)\n",
    "\n",
    "# Define MSE function\n",
    "def f_mse(slope, x, y):\n",
    "    y_pred = slope * x\n",
    "    mse = np.mean((y - y_pred) ** 2)\n",
    "    return mse\n",
    "\n",
    "# plotting function\n",
    "def plot_regression(slope):\n",
    "    # Create a figure with two subplots\n",
    "    fig, (ax1, ax2) = plt.subplots(1, 2, figsize=(8, 4),dpi=150)\n",
    "    \n",
    "    # Data and model line\n",
    "    ax1.scatter(x, y, alpha = 0.7, label='Data', color='blue')\n",
    "    y_pred = slope * x\n",
    "    ax1.plot(x, y_pred, label=f'Fitted Line (slope={slope:.2f})', color='red')\n",
    "    ax1.set_xlabel('x')\n",
    "    ax1.set_ylabel('y')\n",
    "    ax1.set_ylim([-10,30])\n",
    "    ax1.set_title('Data & Model Line')\n",
    "    ax1.grid()\n",
    "    ax1.legend()\n",
    "    \n",
    "    # MSE vs Slope\n",
    "    slopes = np.linspace(-5, 8, 100)\n",
    "    mse_values = [f_mse(s, x, y) for s in slopes]\n",
    "    mse_value = f_mse(slope,x,y)\n",
    "    ax2.plot(slopes, mse_values, label='MSE', color='green')\n",
    "    ax2.scatter(x=slope, y = mse_value, color='red', label=f'Current MSE ({mse_value:.2f})')\n",
    "    ax2.set_xlabel('Slope')\n",
    "    ax2.set_ylabel('MSE')\n",
    "    ax2.set_title('MSE vs Slope')\n",
    "    ax2.legend()\n",
    "    \n",
    "    plt.tight_layout()\n",
    "    plt.show()\n",
    "\n",
    "# interactivity with a slider\n",
    "slope_slider = FloatSlider(min=-5, max=8, step=0.1, value=1, description='Slope:')\n",
    "interact(plot_regression, slope=slope_slider)"
   ]
  },
  {
   "cell_type": "markdown",
   "metadata": {},
   "source": [
    "#### 3.Maximum Likelihood Estimation(MLE)\n",
    "Maximum Likehood Estimation(MLE) is an approach to estimate model parameters. It treats the model parameters as **unknown fixed values** and finds the parameters that maximize the likelihood of the observed data."
   ]
  },
  {
   "cell_type": "markdown",
   "metadata": {},
   "source": [
    "#### 4.Maximum A Posteriori (MAP)"
   ]
  }
 ],
 "metadata": {
  "kernelspec": {
   "display_name": "base",
   "language": "python",
   "name": "python3"
  },
  "language_info": {
   "codemirror_mode": {
    "name": "ipython",
    "version": 3
   },
   "file_extension": ".py",
   "mimetype": "text/x-python",
   "name": "python",
   "nbconvert_exporter": "python",
   "pygments_lexer": "ipython3",
   "version": "3.11.8"
  }
 },
 "nbformat": 4,
 "nbformat_minor": 2
}
