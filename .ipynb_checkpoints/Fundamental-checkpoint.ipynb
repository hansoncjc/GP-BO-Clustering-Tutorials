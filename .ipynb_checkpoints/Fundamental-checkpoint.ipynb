{
 "cells": [
  {
   "cell_type": "markdown",
   "metadata": {},
   "source": [
    "<style>\n",
    "p {\n",
    "    line-height: 10;\n",
    "}\n",
    "</style>\n"
   ]
  },
  {
   "cell_type": "markdown",
   "metadata": {},
   "source": [
    "## Fundemantal Concepts toward Understanding Gaussian Process"
   ]
  },
  {
   "cell_type": "markdown",
   "metadata": {},
   "source": [
    "The purpose of this notebook is to introduce **essential concepts** for the sake of understanding **Gaussian Process**, a powerful machine learning model to predict the shape of a function while giving corresponding **uncertainties** for beginners.\n",
    "The notebook is formated into three main parts.\n",
    "1. **Statistic Concepts**\n",
    "- Random Variables\n",
    "- Mean, Variance, and Standard Deviation\n",
    "- Covariance and Correlation\n",
    "- Distributions\n",
    "- Gaussian Distribution\n",
    "- Multidimension Gaussian Distribution\n",
    "2. **Mathematic Concepts**\n",
    "- \n",
    "3. **Machine Learning Concepts**"
   ]
  },
  {
   "cell_type": "markdown",
   "metadata": {},
   "source": [
    "### Statistics"
   ]
  },
  {
   "cell_type": "markdown",
   "metadata": {},
   "source": []
  }
 ],
 "metadata": {
  "language_info": {
   "name": "python"
  }
 },
 "nbformat": 4,
 "nbformat_minor": 2
}
